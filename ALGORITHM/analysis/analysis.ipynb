{
 "cells": [
  {
   "cell_type": "markdown",
   "metadata": {},
   "source": [
    "### Constant time complexity O(1)"
   ]
  },
  {
   "cell_type": "code",
   "execution_count": 4,
   "metadata": {},
   "outputs": [
    {
     "name": "stdout",
     "output_type": "stream",
     "text": [
      "Hey there!\n",
      "Hey there!\n",
      "Hey there!\n",
      "Hey there!\n",
      "Hey there!\n"
     ]
    }
   ],
   "source": [
    "C = 5\n",
    "# c adalah constant\n",
    "for i in range(1, C+1):\n",
    "   print('Hey there!')"
   ]
  },
  {
   "cell_type": "markdown",
   "metadata": {},
   "source": [
    "### Linear time complexity O(n)"
   ]
  },
  {
   "cell_type": "code",
   "execution_count": 17,
   "metadata": {},
   "outputs": [
    {
     "name": "stdout",
     "output_type": "stream",
     "text": [
      "Hey there! 1 i :  1\n",
      "Hey there! 1 i :  5\n",
      "Hey there! 1 i :  9\n",
      "Hey there! 2 i :  10\n",
      "Hey there! 2 i :  6\n",
      "Hey there! 2 i :  2\n"
     ]
    }
   ],
   "source": [
    "# perbedaan dengan O(1) adalah terdapat operasi + dan - di setiap looping\n",
    "\n",
    "C = 4\n",
    "n = 10\n",
    "\n",
    "for i in range(1, n+1, C):\n",
    "   print('Hey there! 1 i : ', i)\n",
    "   # terdapat operasi penambahan setiap loopingnya\n",
    "\n",
    "for i in range(n, 0, -C):\n",
    "   print('Hey there! 2 i : ', i)\n",
    "   # terdapat operasi pengurangan setiap loopingnya"
   ]
  },
  {
   "cell_type": "markdown",
   "metadata": {},
   "source": [
    "### Quadratic Time Complexity O(nc)"
   ]
  },
  {
   "cell_type": "code",
   "execution_count": 19,
   "metadata": {},
   "outputs": [
    {
     "name": "stdout",
     "output_type": "stream",
     "text": [
      "Hey there! 1 i :  1\n",
      "Hey there! 1 i :  1\n",
      "Hey there! 1 i :  1\n",
      "Hey there! 1 i :  5\n",
      "Hey there! 1 i :  5\n",
      "Hey there! 1 i :  5\n",
      "Hey there! 1 i :  9\n",
      "Hey there! 1 i :  9\n",
      "Hey there! 1 i :  9\n",
      "Hey there! 2 i :  6\n",
      "Hey there! 2 i :  2\n",
      "Hey there! 2 i :  2\n"
     ]
    }
   ],
   "source": [
    "# dalam kasus ini algoritma memiliki O(n^2) karena memiliki 1 nested loop\n",
    "\n",
    "C = 4\n",
    "n = 10\n",
    "\n",
    "for i in range(1, n+1, C):\n",
    "   for j in range(1, n+1, C):\n",
    "      print('Hey there! 1 i : ', i)\n",
    " \n",
    "for i in range(n, 0, -C):\n",
    "   for j in range(i+1, n+1, C):\n",
    "      print('Hey there! 2 i : ', i)\n"
   ]
  },
  {
   "cell_type": "markdown",
   "metadata": {},
   "source": [
    "### Logarithmic Time Complexity O(Log n)"
   ]
  },
  {
   "cell_type": "code",
   "execution_count": 21,
   "metadata": {},
   "outputs": [
    {
     "name": "stdout",
     "output_type": "stream",
     "text": [
      "Hey there! 1 i :  1\n",
      "Hey there! 1 i :  3\n",
      "Hey there! 1 i :  9\n",
      "Hey there! 1 i :  27\n",
      "Hey there! 2 i :  50\n",
      "Hey there! 2 i :  16\n",
      "Hey there! 2 i :  5\n",
      "Hey there! 2 i :  1\n"
     ]
    }
   ],
   "source": [
    "# dengan while\n",
    "C = 3\n",
    "i = 1\n",
    "n = 50\n",
    "while(i <= n):\n",
    "   print('Hey there! 1 i : ', i)\n",
    "   i = i*C\n",
    "# 1, c, c^2, c^3, ..., c^k, ..., c^x, n\n",
    "# O(log_c(n))\n",
    "\n",
    "i = n\n",
    "while(i > 0):\n",
    "   print('Hey there! 2 i : ', i)\n",
    "   i = i//C\n",
    "# n, n/c, n/c^2, n/c^3, ..., n/c^k, ..., n/c^x, 0\n",
    "# O(log_c(0))\n"
   ]
  },
  {
   "cell_type": "code",
   "execution_count": 20,
   "metadata": {},
   "outputs": [
    {
     "name": "stdout",
     "output_type": "stream",
     "text": [
      "Hey there! 1 i :  50\n",
      "Hey there! 1 i :  25\n",
      "Hey there! 1 i :  12\n",
      "Hey there! 1 i :  6\n",
      "Hey there! 1 i :  3\n",
      "Hey there! 1 i :  1\n"
     ]
    }
   ],
   "source": [
    "# menggunakan rekursif\n",
    "C = 2\n",
    "\n",
    "def recurse(n):\n",
    "   if(n <= 0):\n",
    "      return\n",
    "   else:\n",
    "      print('Hey there! 1 i : ', n)\n",
    "   recurse(n//C)\n",
    "\n",
    "recurse(50)"
   ]
  },
  {
   "cell_type": "markdown",
   "metadata": {},
   "source": [
    "### Contoh analysis algoritma Bubble sort"
   ]
  },
  {
   "cell_type": "code",
   "execution_count": 3,
   "metadata": {},
   "outputs": [
    {
     "name": "stdout",
     "output_type": "stream",
     "text": [
      "Sorted array is: \n",
      "11\n",
      "12\n",
      "22\n",
      "25\n",
      "34\n",
      "64\n",
      "90\n"
     ]
    }
   ],
   "source": [
    "def bubbleSort(arr):\n",
    "   n = len(arr)\n",
    "   \n",
    "   for i in range(n):\n",
    "      swapped = False\n",
    "      \n",
    "      for j in range(0, n-i-1):\n",
    "         # n-i-1 mengurangi jumlah iterasi karena bebara angka sudah terurut\n",
    "         if arr[j] > arr[j+1]:\n",
    "            arr[j], arr[j+1] = arr[j+1], arr[j]\n",
    "            swapped = True\n",
    "      \n",
    "      if swapped == False:\n",
    "         break\n",
    "\n",
    "\n",
    "if __name__ == '__main__':\n",
    "   arr = [64, 34, 25, 12, 22, 11, 90]\n",
    "   bubbleSort(arr)\n",
    "   print(\"Sorted array is: \")\n",
    "   for i in range(len(arr)):\n",
    "      print(\"%d\" % arr[i]),\n",
    "      \n",
    "# worst case : O(n)\n",
    "# best case : O(n^2)\n",
    "# average case : O(n^2)"
   ]
  },
  {
   "cell_type": "code",
   "execution_count": null,
   "metadata": {},
   "outputs": [],
   "source": []
  }
 ],
 "metadata": {
  "kernelspec": {
   "display_name": "Python 3",
   "language": "python",
   "name": "python3"
  },
  "language_info": {
   "codemirror_mode": {
    "name": "ipython",
    "version": 3
   },
   "file_extension": ".py",
   "mimetype": "text/x-python",
   "name": "python",
   "nbconvert_exporter": "python",
   "pygments_lexer": "ipython3",
   "version": "3.11.5"
  },
  "orig_nbformat": 4
 },
 "nbformat": 4,
 "nbformat_minor": 2
}
