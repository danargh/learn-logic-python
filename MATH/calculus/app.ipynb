{
 "cells": [
  {
   "cell_type": "markdown",
   "id": "94149b87",
   "metadata": {},
   "source": [
    "# Konsep Calculus"
   ]
  },
  {
   "cell_type": "code",
   "execution_count": null,
   "id": "48563cf7",
   "metadata": {
    "vscode": {
     "languageId": "plaintext"
    }
   },
   "outputs": [],
   "source": []
  },
  {
   "cell_type": "markdown",
   "id": "b03f5fff",
   "metadata": {},
   "source": [
    "## Diferensial"
   ]
  },
  {
   "cell_type": "code",
   "execution_count": null,
   "id": "88d2655e",
   "metadata": {
    "vscode": {
     "languageId": "plaintext"
    }
   },
   "outputs": [],
   "source": []
  }
 ],
 "metadata": {
  "language_info": {
   "name": "python"
  }
 },
 "nbformat": 4,
 "nbformat_minor": 5
}
